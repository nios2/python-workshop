{
 "cells": [
  {
   "cell_type": "markdown",
   "id": "6e3eb752",
   "metadata": {},
   "source": [
    "# Operators\n",
    "\n",
    "These are special symbols that carry out certain operations in our program"
   ]
  },
  {
   "cell_type": "markdown",
   "id": "471d2f44",
   "metadata": {},
   "source": [
    "## 1. Arithmetic operators\n",
    "\n",
    "Arithmetic operators are used to perform mathematical operations like addition, subtraction, multiplication, division etc."
   ]
  },
  {
   "cell_type": "markdown",
   "id": "db0281f4",
   "metadata": {},
   "source": [
    "The `+` is the addition operator. It adds to operands and returns the value of the sum"
   ]
  },
  {
   "cell_type": "code",
   "execution_count": 12,
   "id": "cee19378",
   "metadata": {},
   "outputs": [
    {
     "data": {
      "text/plain": [
       "10"
      ]
     },
     "execution_count": 12,
     "metadata": {},
     "output_type": "execute_result"
    }
   ],
   "source": [
    "6 + 4"
   ]
  },
  {
   "cell_type": "code",
   "execution_count": 13,
   "id": "ac6e1eb8",
   "metadata": {},
   "outputs": [
    {
     "data": {
      "text/plain": [
       "'Hello World'"
      ]
     },
     "execution_count": 13,
     "metadata": {},
     "output_type": "execute_result"
    }
   ],
   "source": [
    "#String concatenation\n",
    "'Hello ' + 'World'"
   ]
  },
  {
   "cell_type": "markdown",
   "id": "563f4ee3",
   "metadata": {},
   "source": [
    "`-` subtraction operator."
   ]
  },
  {
   "cell_type": "code",
   "execution_count": 14,
   "id": "1b208748",
   "metadata": {},
   "outputs": [
    {
     "data": {
      "text/plain": [
       "7"
      ]
     },
     "execution_count": 14,
     "metadata": {},
     "output_type": "execute_result"
    }
   ],
   "source": [
    "9-2"
   ]
  },
  {
   "cell_type": "markdown",
   "id": "c2674599",
   "metadata": {},
   "source": [
    "`*` multiplication"
   ]
  },
  {
   "cell_type": "code",
   "execution_count": 15,
   "id": "929552fa",
   "metadata": {},
   "outputs": [
    {
     "data": {
      "text/plain": [
       "10"
      ]
     },
     "execution_count": 15,
     "metadata": {},
     "output_type": "execute_result"
    }
   ],
   "source": [
    "a = 2\n",
    "b = 5\n",
    "a * b"
   ]
  },
  {
   "cell_type": "markdown",
   "id": "9d4f4df0",
   "metadata": {},
   "source": [
    "*`/`* division"
   ]
  },
  {
   "cell_type": "code",
   "execution_count": 16,
   "id": "d3e6140c",
   "metadata": {},
   "outputs": [
    {
     "data": {
      "text/plain": [
       "6.0"
      ]
     },
     "execution_count": 16,
     "metadata": {},
     "output_type": "execute_result"
    }
   ],
   "source": [
    "24 / 4"
   ]
  },
  {
   "cell_type": "markdown",
   "id": "f13d57be",
   "metadata": {},
   "source": [
    "`//` floor division"
   ]
  },
  {
   "cell_type": "code",
   "execution_count": 17,
   "id": "5d089a90",
   "metadata": {},
   "outputs": [
    {
     "data": {
      "text/plain": [
       "2"
      ]
     },
     "execution_count": 17,
     "metadata": {},
     "output_type": "execute_result"
    }
   ],
   "source": [
    "9 // 4"
   ]
  },
  {
   "cell_type": "markdown",
   "id": "535f7ec5",
   "metadata": {},
   "source": [
    "`**` exponent"
   ]
  },
  {
   "cell_type": "code",
   "execution_count": 18,
   "id": "600baabc",
   "metadata": {},
   "outputs": [
    {
     "data": {
      "text/plain": [
       "125"
      ]
     },
     "execution_count": 18,
     "metadata": {},
     "output_type": "execute_result"
    }
   ],
   "source": [
    "5 ** 3"
   ]
  },
  {
   "cell_type": "markdown",
   "id": "6b2f5acb",
   "metadata": {},
   "source": [
    "`%` Modulo - Returns the remainder of a division operation"
   ]
  },
  {
   "cell_type": "code",
   "execution_count": 19,
   "id": "a4118ea2",
   "metadata": {},
   "outputs": [
    {
     "data": {
      "text/plain": [
       "1"
      ]
     },
     "execution_count": 19,
     "metadata": {},
     "output_type": "execute_result"
    }
   ],
   "source": [
    "9%2"
   ]
  },
  {
   "cell_type": "markdown",
   "id": "2a42d565",
   "metadata": {},
   "source": [
    "## 2. Comparison operators\n",
    "\n",
    "Used to compare two values. They return either True of False"
   ]
  },
  {
   "cell_type": "markdown",
   "id": "c897e7c1",
   "metadata": {},
   "source": [
    "`>` Greater than"
   ]
  },
  {
   "cell_type": "code",
   "execution_count": 20,
   "id": "c3e16473",
   "metadata": {},
   "outputs": [
    {
     "data": {
      "text/plain": [
       "False"
      ]
     },
     "execution_count": 20,
     "metadata": {},
     "output_type": "execute_result"
    }
   ],
   "source": [
    "x = 5\n",
    "y = 8\n",
    "\n",
    "x > y"
   ]
  },
  {
   "cell_type": "markdown",
   "id": "8eba2293",
   "metadata": {},
   "source": [
    "`<` Less than"
   ]
  },
  {
   "cell_type": "code",
   "execution_count": 8,
   "id": "da2b7a12",
   "metadata": {},
   "outputs": [
    {
     "data": {
      "text/plain": [
       "True"
      ]
     },
     "execution_count": 8,
     "metadata": {},
     "output_type": "execute_result"
    }
   ],
   "source": [
    "x < y"
   ]
  },
  {
   "cell_type": "markdown",
   "id": "fbc8fe68",
   "metadata": {},
   "source": [
    "`==` Equal to"
   ]
  },
  {
   "cell_type": "code",
   "execution_count": 9,
   "id": "9c1fee3e",
   "metadata": {},
   "outputs": [
    {
     "data": {
      "text/plain": [
       "False"
      ]
     },
     "execution_count": 9,
     "metadata": {},
     "output_type": "execute_result"
    }
   ],
   "source": [
    "x == y"
   ]
  },
  {
   "cell_type": "markdown",
   "id": "9422f355",
   "metadata": {},
   "source": [
    "`>=` Greater than or equal to"
   ]
  },
  {
   "cell_type": "code",
   "execution_count": 10,
   "id": "4dbd8d13",
   "metadata": {},
   "outputs": [
    {
     "data": {
      "text/plain": [
       "True"
      ]
     },
     "execution_count": 10,
     "metadata": {},
     "output_type": "execute_result"
    }
   ],
   "source": [
    "y >= x"
   ]
  },
  {
   "cell_type": "markdown",
   "id": "34ac0ab4",
   "metadata": {},
   "source": [
    "`<=` Less than or equal to"
   ]
  },
  {
   "cell_type": "code",
   "execution_count": 11,
   "id": "c6724eef",
   "metadata": {},
   "outputs": [
    {
     "data": {
      "text/plain": [
       "True"
      ]
     },
     "execution_count": 11,
     "metadata": {},
     "output_type": "execute_result"
    }
   ],
   "source": [
    "x <= y"
   ]
  },
  {
   "cell_type": "markdown",
   "id": "980539e1",
   "metadata": {},
   "source": [
    "`!=` Not equal to"
   ]
  },
  {
   "cell_type": "code",
   "execution_count": 12,
   "id": "c7502bf5",
   "metadata": {},
   "outputs": [
    {
     "data": {
      "text/plain": [
       "True"
      ]
     },
     "execution_count": 12,
     "metadata": {},
     "output_type": "execute_result"
    }
   ],
   "source": [
    "x != y"
   ]
  },
  {
   "cell_type": "markdown",
   "id": "3d2018f0",
   "metadata": {},
   "source": [
    "## 3. Assignment operators\n",
    "\n",
    "Used to assign values to variables. Assigns the value on the right to the variable a on the left."
   ]
  },
  {
   "cell_type": "code",
   "execution_count": 2,
   "id": "20daae4c",
   "metadata": {},
   "outputs": [
    {
     "name": "stdout",
     "output_type": "stream",
     "text": [
      "hello\n"
     ]
    }
   ],
   "source": [
    "text = 'hello'\n",
    "print(text)"
   ]
  },
  {
   "cell_type": "markdown",
   "id": "b3342b57",
   "metadata": {},
   "source": [
    "There are compound operators that can perform arithmetic and assignment operations as well."
   ]
  },
  {
   "cell_type": "code",
   "execution_count": 6,
   "id": "a3de2eec",
   "metadata": {},
   "outputs": [],
   "source": [
    "num = 10"
   ]
  },
  {
   "cell_type": "code",
   "execution_count": 7,
   "id": "32edd2b8",
   "metadata": {},
   "outputs": [
    {
     "name": "stdout",
     "output_type": "stream",
     "text": [
      "12\n"
     ]
    }
   ],
   "source": [
    "num += 2\n",
    "print(num)"
   ]
  },
  {
   "cell_type": "code",
   "execution_count": 8,
   "id": "9e31624b",
   "metadata": {},
   "outputs": [
    {
     "name": "stdout",
     "output_type": "stream",
     "text": [
      "9\n"
     ]
    }
   ],
   "source": [
    "num -= 3\n",
    "print(num)"
   ]
  },
  {
   "cell_type": "code",
   "execution_count": 9,
   "id": "48d4d80b",
   "metadata": {},
   "outputs": [
    {
     "name": "stdout",
     "output_type": "stream",
     "text": [
      "18\n"
     ]
    }
   ],
   "source": [
    "num *= 2\n",
    "print(num) "
   ]
  },
  {
   "cell_type": "code",
   "execution_count": 10,
   "id": "d0d07a5d",
   "metadata": {
    "scrolled": true
   },
   "outputs": [
    {
     "name": "stdout",
     "output_type": "stream",
     "text": [
      "9.0\n"
     ]
    }
   ],
   "source": [
    "num /= 2\n",
    "print(num)"
   ]
  },
  {
   "cell_type": "code",
   "execution_count": 11,
   "id": "048cf5e9",
   "metadata": {},
   "outputs": [
    {
     "name": "stdout",
     "output_type": "stream",
     "text": [
      "1.0\n"
     ]
    }
   ],
   "source": [
    "num %= 2\n",
    "print(num)"
   ]
  },
  {
   "cell_type": "markdown",
   "id": "0a8bcc8a",
   "metadata": {},
   "source": [
    "## 3. Logical operators\n",
    "\n",
    "`and` `or` `not`"
   ]
  },
  {
   "cell_type": "markdown",
   "id": "cf8a67c7",
   "metadata": {},
   "source": [
    "`and` returns True if both the operands are true"
   ]
  },
  {
   "cell_type": "code",
   "execution_count": 22,
   "id": "6d65e9f9",
   "metadata": {},
   "outputs": [
    {
     "data": {
      "text/plain": [
       "False"
      ]
     },
     "execution_count": 22,
     "metadata": {},
     "output_type": "execute_result"
    }
   ],
   "source": [
    "x = True\n",
    "y = False\n",
    "x and y"
   ]
  },
  {
   "cell_type": "markdown",
   "id": "de87f23e",
   "metadata": {},
   "source": [
    "`or` returns True if either of the operands is true"
   ]
  },
  {
   "cell_type": "code",
   "execution_count": 23,
   "id": "2ee878a4",
   "metadata": {},
   "outputs": [
    {
     "data": {
      "text/plain": [
       "True"
      ]
     },
     "execution_count": 23,
     "metadata": {},
     "output_type": "execute_result"
    }
   ],
   "source": [
    "x or y"
   ]
  },
  {
   "cell_type": "markdown",
   "id": "c9cab3f8",
   "metadata": {},
   "source": [
    "`not` returns the complement of the operand"
   ]
  },
  {
   "cell_type": "code",
   "execution_count": 24,
   "id": "ae3fe147",
   "metadata": {},
   "outputs": [
    {
     "data": {
      "text/plain": [
       "False"
      ]
     },
     "execution_count": 24,
     "metadata": {},
     "output_type": "execute_result"
    }
   ],
   "source": [
    "not x"
   ]
  },
  {
   "cell_type": "code",
   "execution_count": null,
   "id": "27f8b5d9",
   "metadata": {},
   "outputs": [],
   "source": []
  }
 ],
 "metadata": {
  "kernelspec": {
   "display_name": "Python 3 (ipykernel)",
   "language": "python",
   "name": "python3"
  },
  "language_info": {
   "codemirror_mode": {
    "name": "ipython",
    "version": 3
   },
   "file_extension": ".py",
   "mimetype": "text/x-python",
   "name": "python",
   "nbconvert_exporter": "python",
   "pygments_lexer": "ipython3",
   "version": "3.9.7"
  }
 },
 "nbformat": 4,
 "nbformat_minor": 5
}
