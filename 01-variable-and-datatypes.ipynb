{
 "cells": [
  {
   "cell_type": "markdown",
   "id": "30f206bc",
   "metadata": {},
   "source": [
    "# Your first line of Python code\n",
    "\n",
    "Prints the text `Hello world!` as the output in just a single line of code."
   ]
  },
  {
   "cell_type": "code",
   "execution_count": 2,
   "id": "cb624327",
   "metadata": {},
   "outputs": [
    {
     "name": "stdout",
     "output_type": "stream",
     "text": [
      "Hello world!\n"
     ]
    }
   ],
   "source": [
    "print('Hello world!')"
   ]
  },
  {
   "cell_type": "markdown",
   "id": "c2f9053e",
   "metadata": {},
   "source": [
    "`print` is a builtin function that displays a message on the standard output. Functions are units of code that perform a specific operation in our program. We'll learn more about functions in a later sections"
   ]
  },
  {
   "cell_type": "markdown",
   "id": "bd329218",
   "metadata": {},
   "source": [
    "# Variables\n",
    "\n",
    "Variables are named locations that store data in the program's memory. They are like containers that hold some data.\n",
    "We use the assignment operator `=` to assign a value to a variable. "
   ]
  },
  {
   "cell_type": "code",
   "execution_count": 5,
   "id": "a32cb591",
   "metadata": {},
   "outputs": [],
   "source": [
    "message = 'Hello world'"
   ]
  },
  {
   "cell_type": "markdown",
   "id": "b3565ea7",
   "metadata": {},
   "source": [
    "Variables can then be referenced to give us the value they contain."
   ]
  },
  {
   "cell_type": "code",
   "execution_count": 6,
   "id": "56a47c9e",
   "metadata": {},
   "outputs": [
    {
     "name": "stdout",
     "output_type": "stream",
     "text": [
      "Hello world\n"
     ]
    }
   ],
   "source": [
    "print(message)"
   ]
  },
  {
   "cell_type": "markdown",
   "id": "ca353cf9",
   "metadata": {},
   "source": [
    "Variables can also be reassigned that is, the value in them can be changed to something different"
   ]
  },
  {
   "cell_type": "code",
   "execution_count": 7,
   "id": "9b654bbd",
   "metadata": {},
   "outputs": [
    {
     "name": "stdout",
     "output_type": "stream",
     "text": [
      "Python rocks!\n"
     ]
    }
   ],
   "source": [
    "message = 'Python rocks!'\n",
    "print(message)"
   ]
  },
  {
   "cell_type": "markdown",
   "id": "3480d488",
   "metadata": {},
   "source": [
    "# Datatypes.\n",
    "\n",
    "What are some of the data values that variables can contain?\n",
    "Every value in Python has a type (datatype)\n",
    "We can use the `type()` function to know which class a variable or a value belongs to."
   ]
  },
  {
   "cell_type": "markdown",
   "id": "8415e3e1",
   "metadata": {},
   "source": [
    "## 1. Numbers\n",
    "There are three types of numbers in Python `int`, `float` and `complex`\n",
    "\n",
    "1. `int` represents integers - These are whole numbers eg 10, 165\n",
    "\n",
    "2. `float` represents numbers with decimals(fraction parts) e.g 1.8, 2.0\n",
    "\n",
    "3. `complex` represents complex numbers, these are numbers with real and imaginary parts(You won't deal with these often... unless you are doing scientific computating :) ) e.g 5+8j"
   ]
  },
  {
   "cell_type": "code",
   "execution_count": 8,
   "id": "74788719",
   "metadata": {},
   "outputs": [
    {
     "name": "stdout",
     "output_type": "stream",
     "text": [
      "<class 'int'>\n"
     ]
    }
   ],
   "source": [
    "#int\n",
    "num1 = 5\n",
    "print(type(num1))"
   ]
  },
  {
   "cell_type": "code",
   "execution_count": 9,
   "id": "f8ddbf8c",
   "metadata": {},
   "outputs": [
    {
     "name": "stdout",
     "output_type": "stream",
     "text": [
      "<class 'float'>\n"
     ]
    }
   ],
   "source": [
    "num2 = 22.5\n",
    "print(type(num2))"
   ]
  },
  {
   "cell_type": "code",
   "execution_count": 11,
   "id": "295cb267",
   "metadata": {},
   "outputs": [
    {
     "name": "stdout",
     "output_type": "stream",
     "text": [
      "<class 'complex'>\n"
     ]
    }
   ],
   "source": [
    "num3 = 1+1j\n",
    "print(type(num3))"
   ]
  },
  {
   "cell_type": "markdown",
   "id": "9fa91955",
   "metadata": {},
   "source": [
    "## 2. Strings\n",
    "\n",
    "A sequence of characters within quotation marks. We can use single, double or triple quotation marks. The `message` variable we created before was a string."
   ]
  },
  {
   "cell_type": "code",
   "execution_count": 12,
   "id": "162dbafa",
   "metadata": {},
   "outputs": [
    {
     "name": "stdout",
     "output_type": "stream",
     "text": [
      "<class 'str'>\n"
     ]
    }
   ],
   "source": [
    "print(type(message))"
   ]
  },
  {
   "cell_type": "code",
   "execution_count": 16,
   "id": "2ef49149",
   "metadata": {},
   "outputs": [
    {
     "name": "stdout",
     "output_type": "stream",
     "text": [
      "Introduction to Python for Data Science and Machine Learning\n"
     ]
    }
   ],
   "source": [
    "caption = \"Introduction to Python for Data Science and Machine Learning\"\n",
    "print(caption)"
   ]
  },
  {
   "cell_type": "code",
   "execution_count": 15,
   "id": "23702a97",
   "metadata": {},
   "outputs": [
    {
     "name": "stdout",
     "output_type": "stream",
     "text": [
      "\n",
      "What win I, if I gain the thing I seek?\n",
      "A dream, a breath, a froth of fleeting joy.\n",
      "Who buys a minute's mirth to wail a week?\n",
      "Or sells eternity to get a toy?\n",
      "\n"
     ]
    }
   ],
   "source": [
    "# A multine string\n",
    "poem = '''\n",
    "What win I, if I gain the thing I seek?\n",
    "A dream, a breath, a froth of fleeting joy.\n",
    "Who buys a minute's mirth to wail a week?\n",
    "Or sells eternity to get a toy?\n",
    "'''\n",
    "\n",
    "print(poem)"
   ]
  },
  {
   "cell_type": "markdown",
   "id": "8bdc761b",
   "metadata": {},
   "source": [
    "We can use the `len()` function to get the length of characters in a string"
   ]
  },
  {
   "cell_type": "code",
   "execution_count": 3,
   "id": "172e9a07",
   "metadata": {},
   "outputs": [
    {
     "data": {
      "text/plain": [
       "5"
      ]
     },
     "execution_count": 3,
     "metadata": {},
     "output_type": "execute_result"
    }
   ],
   "source": [
    "month = 'April'\n",
    "len(month)"
   ]
  },
  {
   "cell_type": "markdown",
   "id": "fd49b1fb",
   "metadata": {},
   "source": [
    "Strings also support *indexing*. Each character is a string has an index. Strinsg are  The 1st character has an index of 0, the 2nd character has index 1 and so on"
   ]
  },
  {
   "cell_type": "code",
   "execution_count": 5,
   "id": "46a3b30c",
   "metadata": {},
   "outputs": [
    {
     "data": {
      "text/plain": [
       "'p'"
      ]
     },
     "execution_count": 5,
     "metadata": {},
     "output_type": "execute_result"
    }
   ],
   "source": [
    "month[1]"
   ]
  },
  {
   "cell_type": "markdown",
   "id": "7157ce9d",
   "metadata": {},
   "source": [
    "Strings are *immutable*, we cannot the change the individual values in a string.Strings do not support item reassignment"
   ]
  },
  {
   "cell_type": "code",
   "execution_count": 45,
   "id": "fc1b87b1",
   "metadata": {},
   "outputs": [
    {
     "ename": "TypeError",
     "evalue": "'str' object does not support item assignment",
     "output_type": "error",
     "traceback": [
      "\u001b[1;31m---------------------------------------------------------------------------\u001b[0m",
      "\u001b[1;31mTypeError\u001b[0m                                 Traceback (most recent call last)",
      "Input \u001b[1;32mIn [45]\u001b[0m, in \u001b[0;36m<cell line: 1>\u001b[1;34m()\u001b[0m\n\u001b[1;32m----> 1\u001b[0m month[\u001b[38;5;241m0\u001b[39m] \u001b[38;5;241m=\u001b[39m \u001b[38;5;124m'\u001b[39m\u001b[38;5;124mB\u001b[39m\u001b[38;5;124m'\u001b[39m\n",
      "\u001b[1;31mTypeError\u001b[0m: 'str' object does not support item assignment"
     ]
    }
   ],
   "source": [
    "month[0] = 'B' #Invalid operation"
   ]
  },
  {
   "cell_type": "markdown",
   "id": "5e9777e5",
   "metadata": {},
   "source": [
    "## 3. Boolean type\n",
    "\n",
    "This type has two possible values `True` or `False`. These two are also special Python keywords. \n",
    "Booleans are used to perform conditional logic, where we can exectute our code based on certain conditions."
   ]
  },
  {
   "cell_type": "code",
   "execution_count": 6,
   "id": "d25dfc37",
   "metadata": {},
   "outputs": [
    {
     "name": "stdout",
     "output_type": "stream",
     "text": [
      "<class 'bool'>\n",
      "<class 'bool'>\n"
     ]
    }
   ],
   "source": [
    "x = True\n",
    "y = False\n",
    "print(type(x))\n",
    "print(type(y))"
   ]
  },
  {
   "cell_type": "markdown",
   "id": "520e5060",
   "metadata": {},
   "source": [
    "## Data Structures \n",
    "\n",
    "These are complex datatytes in Python that can hold more than a single value. They can contain a collection of values. They include **lists**, **sets**, **tuples** and **dictionaries**.\n"
   ]
  },
  {
   "cell_type": "markdown",
   "id": "04fff503",
   "metadata": {},
   "source": [
    "## 1. Lists\n",
    "Lists are an ordered collection or sequence of items. They are created using square brackets `[]` and with comma seperated values"
   ]
  },
  {
   "cell_type": "code",
   "execution_count": 7,
   "id": "b9657fd9",
   "metadata": {},
   "outputs": [
    {
     "name": "stdout",
     "output_type": "stream",
     "text": [
      "<class 'list'>\n"
     ]
    }
   ],
   "source": [
    "numbers = [1, 2, 3, 4, 5]\n",
    "print(type(numbers))"
   ]
  },
  {
   "cell_type": "markdown",
   "id": "1a5269a2",
   "metadata": {},
   "source": [
    "Each item in a list can be accessed by referencing it's index. Lists are zero indexed. The first element has an index of 0, the 2nd element has an index of 1 and so on."
   ]
  },
  {
   "cell_type": "code",
   "execution_count": 20,
   "id": "e65833bc",
   "metadata": {},
   "outputs": [
    {
     "name": "stdout",
     "output_type": "stream",
     "text": [
      "1\n",
      "5\n"
     ]
    }
   ],
   "source": [
    "print(numbers[0])\n",
    "print(numbers[4])"
   ]
  },
  {
   "cell_type": "markdown",
   "id": "cc789e5c",
   "metadata": {},
   "source": [
    "We can also use negative indexing to access items from behind the list(from the last index)"
   ]
  },
  {
   "cell_type": "code",
   "execution_count": 23,
   "id": "2cc93980",
   "metadata": {},
   "outputs": [
    {
     "name": "stdout",
     "output_type": "stream",
     "text": [
      "5\n",
      "4\n"
     ]
    }
   ],
   "source": [
    "print(numbers[-1])\n",
    "print(numbers[-2])"
   ]
  },
  {
   "cell_type": "markdown",
   "id": "e2602b65",
   "metadata": {},
   "source": [
    "We can also extract a range of items from a list, this is commonly known as *slicing*"
   ]
  },
  {
   "cell_type": "code",
   "execution_count": 8,
   "id": "01e1113f",
   "metadata": {},
   "outputs": [
    {
     "name": "stdout",
     "output_type": "stream",
     "text": [
      "[1, 2, 3, 4, 5]\n"
     ]
    },
    {
     "data": {
      "text/plain": [
       "[1, 2, 3]"
      ]
     },
     "execution_count": 8,
     "metadata": {},
     "output_type": "execute_result"
    }
   ],
   "source": [
    "print(numbers)\n",
    "numbers[0:3:1] #start index, end index(non inclusive), and step(optional, the default is 1)"
   ]
  },
  {
   "cell_type": "code",
   "execution_count": 26,
   "id": "9e70e314",
   "metadata": {},
   "outputs": [
    {
     "name": "stdout",
     "output_type": "stream",
     "text": [
      "[1, 2, 3, 4, 5]\n"
     ]
    },
    {
     "data": {
      "text/plain": [
       "[2, 3]"
      ]
     },
     "execution_count": 26,
     "metadata": {},
     "output_type": "execute_result"
    }
   ],
   "source": [
    "print(numbers)\n",
    "numbers[1:3]"
   ]
  },
  {
   "cell_type": "code",
   "execution_count": 29,
   "id": "053723c8",
   "metadata": {},
   "outputs": [
    {
     "name": "stdout",
     "output_type": "stream",
     "text": [
      "[1, 2, 3, 4, 5]\n"
     ]
    },
    {
     "data": {
      "text/plain": [
       "[3, 4, 5]"
      ]
     },
     "execution_count": 29,
     "metadata": {},
     "output_type": "execute_result"
    }
   ],
   "source": [
    "print(numbers)\n",
    "numbers[2:] #Goes to the end of the array"
   ]
  },
  {
   "cell_type": "code",
   "execution_count": 30,
   "id": "6db802b0",
   "metadata": {},
   "outputs": [
    {
     "data": {
      "text/plain": [
       "[1, 2]"
      ]
     },
     "execution_count": 30,
     "metadata": {},
     "output_type": "execute_result"
    }
   ],
   "source": [
    "numbers[:2] #Starts from index 0"
   ]
  },
  {
   "cell_type": "code",
   "execution_count": 31,
   "id": "13830a27",
   "metadata": {},
   "outputs": [
    {
     "data": {
      "text/plain": [
       "[1, 3, 5]"
      ]
     },
     "execution_count": 31,
     "metadata": {},
     "output_type": "execute_result"
    }
   ],
   "source": [
    "numbers[::2]"
   ]
  },
  {
   "cell_type": "code",
   "execution_count": 9,
   "id": "34f1f28c",
   "metadata": {},
   "outputs": [
    {
     "data": {
      "text/plain": [
       "[5, 4, 3, 2, 1]"
      ]
     },
     "execution_count": 9,
     "metadata": {},
     "output_type": "execute_result"
    }
   ],
   "source": [
    "numbers[::-1] #the step value is -1, so it reads from backwards(reversing the list)"
   ]
  },
  {
   "cell_type": "markdown",
   "id": "76f067ae",
   "metadata": {},
   "source": [
    "Lists are *mutable*, meaning we can reassign the values in a list based on their list"
   ]
  },
  {
   "cell_type": "code",
   "execution_count": 10,
   "id": "7edbc179",
   "metadata": {},
   "outputs": [
    {
     "name": "stdout",
     "output_type": "stream",
     "text": [
      "[1, 2, 3, 4, 5]\n",
      "[24, 2, 3, 4, 5]\n"
     ]
    }
   ],
   "source": [
    "print(numbers)\n",
    "numbers[0] = 24\n",
    "print(numbers)"
   ]
  },
  {
   "cell_type": "code",
   "execution_count": 11,
   "id": "f2c7a5c7",
   "metadata": {},
   "outputs": [
    {
     "name": "stdout",
     "output_type": "stream",
     "text": [
      "[24, 48, 96, 4, 5]\n"
     ]
    }
   ],
   "source": [
    "numbers[1:3] = [48, 96]\n",
    "print(numbers)"
   ]
  },
  {
   "cell_type": "markdown",
   "id": "8aff92eb",
   "metadata": {},
   "source": [
    "Lists can also hold values of mixed datatypes (This is not often a good thing to do in practice as it can result in bugs(unexpected issues))"
   ]
  },
  {
   "cell_type": "code",
   "execution_count": 35,
   "id": "bb012fdb",
   "metadata": {},
   "outputs": [],
   "source": [
    "items = ['car',True, 5]"
   ]
  },
  {
   "cell_type": "markdown",
   "id": "bc1a12b0",
   "metadata": {},
   "source": [
    "In most cases, you want your list containing values of the same type"
   ]
  },
  {
   "cell_type": "code",
   "execution_count": 37,
   "id": "6a0b3c40",
   "metadata": {},
   "outputs": [
    {
     "data": {
      "text/plain": [
       "['fries', 'pasta', 'lentils', 'milk shake']"
      ]
     },
     "execution_count": 37,
     "metadata": {},
     "output_type": "execute_result"
    }
   ],
   "source": [
    "menu_options = ['fries', 'pasta', 'lentils', 'milk shake'] # a list of strings\n",
    "menu_options"
   ]
  },
  {
   "cell_type": "markdown",
   "id": "d182a4b6",
   "metadata": {},
   "source": [
    "We can use the `len()` function to get the *length* of a list. The length of a list is essentially the number of items contained in the list "
   ]
  },
  {
   "cell_type": "code",
   "execution_count": 41,
   "id": "91dca831",
   "metadata": {},
   "outputs": [
    {
     "data": {
      "text/plain": [
       "5"
      ]
     },
     "execution_count": 41,
     "metadata": {},
     "output_type": "execute_result"
    }
   ],
   "source": [
    "len(numbers)"
   ]
  },
  {
   "cell_type": "code",
   "execution_count": 42,
   "id": "dab2e590",
   "metadata": {
    "scrolled": true
   },
   "outputs": [
    {
     "data": {
      "text/plain": [
       "4"
      ]
     },
     "execution_count": 42,
     "metadata": {},
     "output_type": "execute_result"
    }
   ],
   "source": [
    "len(menu_options)"
   ]
  },
  {
   "cell_type": "markdown",
   "id": "820d0358",
   "metadata": {},
   "source": [
    "Lists can also contain other list as elements. These are called *multidimensional* lists(or matrices) and are a very common way of representing data in Machine learning applications"
   ]
  },
  {
   "cell_type": "code",
   "execution_count": 12,
   "id": "6c8a9878",
   "metadata": {},
   "outputs": [],
   "source": [
    "coordinates = [[37, 31], [32, 45], [21, 71]] #an example of a variable that can be used to hold a set of coordinate points"
   ]
  },
  {
   "cell_type": "code",
   "execution_count": 82,
   "id": "81f15529",
   "metadata": {},
   "outputs": [
    {
     "data": {
      "text/plain": [
       "[37, 31]"
      ]
     },
     "execution_count": 82,
     "metadata": {},
     "output_type": "execute_result"
    }
   ],
   "source": [
    "coordinates[0]"
   ]
  },
  {
   "cell_type": "code",
   "execution_count": 83,
   "id": "339e8b0d",
   "metadata": {
    "scrolled": true
   },
   "outputs": [
    {
     "data": {
      "text/plain": [
       "32"
      ]
     },
     "execution_count": 83,
     "metadata": {},
     "output_type": "execute_result"
    }
   ],
   "source": [
    "coordinates[1][0]"
   ]
  },
  {
   "cell_type": "code",
   "execution_count": 13,
   "id": "86f258ba",
   "metadata": {},
   "outputs": [
    {
     "data": {
      "text/plain": [
       "71"
      ]
     },
     "execution_count": 13,
     "metadata": {},
     "output_type": "execute_result"
    }
   ],
   "source": [
    "coordinates[2][1]"
   ]
  },
  {
   "cell_type": "markdown",
   "id": "5e98ea99",
   "metadata": {},
   "source": [
    "> ### Strings also support *slicing* just like lists"
   ]
  },
  {
   "cell_type": "code",
   "execution_count": 47,
   "id": "691b068c",
   "metadata": {},
   "outputs": [
    {
     "data": {
      "text/plain": [
       "'py'"
      ]
     },
     "execution_count": 47,
     "metadata": {},
     "output_type": "execute_result"
    }
   ],
   "source": [
    "language = 'python'\n",
    "language[0:2]"
   ]
  },
  {
   "cell_type": "markdown",
   "id": "ad4919a3",
   "metadata": {},
   "source": [
    "## 2. Tuples"
   ]
  },
  {
   "cell_type": "markdown",
   "id": "7c20ec83",
   "metadata": {},
   "source": [
    "Tuples are an ordered sequence of items same as a list. The only difference is that tuples are immutable. Tuples once created cannot be modified. They are good for data integrity (to hold values that should not be changed or updated in our program).\n",
    "Tuples are created using round brackets `()`"
   ]
  },
  {
   "cell_type": "code",
   "execution_count": 14,
   "id": "9f0e4f95",
   "metadata": {},
   "outputs": [
    {
     "data": {
      "text/plain": [
       "tuple"
      ]
     },
     "execution_count": 14,
     "metadata": {},
     "output_type": "execute_result"
    }
   ],
   "source": [
    "students = ('Martin', 'Joy', 'Winfred', 'Mike')\n",
    "type(students)"
   ]
  },
  {
   "cell_type": "markdown",
   "id": "1179d182",
   "metadata": {},
   "source": [
    "Tuples support *indexing* and *slicing* but not item reassignment"
   ]
  },
  {
   "cell_type": "code",
   "execution_count": 49,
   "id": "025f747f",
   "metadata": {},
   "outputs": [
    {
     "data": {
      "text/plain": [
       "'Martin'"
      ]
     },
     "execution_count": 49,
     "metadata": {},
     "output_type": "execute_result"
    }
   ],
   "source": [
    "students[0]"
   ]
  },
  {
   "cell_type": "code",
   "execution_count": 50,
   "id": "8a14b72a",
   "metadata": {},
   "outputs": [
    {
     "data": {
      "text/plain": [
       "('Martin', 'Joy', 'Winfred')"
      ]
     },
     "execution_count": 50,
     "metadata": {},
     "output_type": "execute_result"
    }
   ],
   "source": [
    "students[:3]"
   ]
  },
  {
   "cell_type": "code",
   "execution_count": 51,
   "id": "d3da9eb6",
   "metadata": {},
   "outputs": [
    {
     "ename": "TypeError",
     "evalue": "'tuple' object does not support item assignment",
     "output_type": "error",
     "traceback": [
      "\u001b[1;31m---------------------------------------------------------------------------\u001b[0m",
      "\u001b[1;31mTypeError\u001b[0m                                 Traceback (most recent call last)",
      "Input \u001b[1;32mIn [51]\u001b[0m, in \u001b[0;36m<cell line: 1>\u001b[1;34m()\u001b[0m\n\u001b[1;32m----> 1\u001b[0m students[\u001b[38;5;241m0\u001b[39m] \u001b[38;5;241m=\u001b[39m \u001b[38;5;124m'\u001b[39m\u001b[38;5;124mCollins\u001b[39m\u001b[38;5;124m'\u001b[39m\n",
      "\u001b[1;31mTypeError\u001b[0m: 'tuple' object does not support item assignment"
     ]
    }
   ],
   "source": [
    "students[0] = 'Collins' #Wrong code"
   ]
  },
  {
   "cell_type": "markdown",
   "id": "51dea5d8",
   "metadata": {},
   "source": [
    "## 3. Sets\n",
    "\n",
    "Set is an unordered collection of unique items created using curly brackets `{}`. The items are unordered, meaning they do not have indexes. The items in a set are also unique, sets eliminate duplicate values."
   ]
  },
  {
   "cell_type": "code",
   "execution_count": 62,
   "id": "e96e33e6",
   "metadata": {},
   "outputs": [
    {
     "data": {
      "text/plain": [
       "set"
      ]
     },
     "execution_count": 62,
     "metadata": {},
     "output_type": "execute_result"
    }
   ],
   "source": [
    "sensor_temperatures = {22, 24.3, 21.6, 23.5, 24.3}\n",
    "type(sensor_temperatures)"
   ]
  },
  {
   "cell_type": "code",
   "execution_count": 61,
   "id": "ace0e830",
   "metadata": {
    "scrolled": true
   },
   "outputs": [
    {
     "name": "stdout",
     "output_type": "stream",
     "text": [
      "{24.3, 21.6, 22, 23.5}\n"
     ]
    }
   ],
   "source": [
    "print(sensor_temperatures)"
   ]
  },
  {
   "cell_type": "markdown",
   "id": "1d22ee2d",
   "metadata": {},
   "source": [
    "Notice how we get a different order from the one we created after printing the values. Do you also notice that the duplicate value 24.3 is not part of the set, it gets removed. Sets can only contain unique values, duplicate items are removed.\n",
    "\n",
    "Assuming that we were working on an IoT project that retrieves temperature data from a sensor and sends them to a Python API we have created, do you think a `set` like the one above would be the best data structure to store the values?"
   ]
  },
  {
   "cell_type": "markdown",
   "id": "db129eb6",
   "metadata": {},
   "source": [
    "> Sets do not support *indexing* and *slicing* since they are unordered"
   ]
  },
  {
   "cell_type": "code",
   "execution_count": 60,
   "id": "859a2942",
   "metadata": {},
   "outputs": [
    {
     "ename": "TypeError",
     "evalue": "'set' object is not subscriptable",
     "output_type": "error",
     "traceback": [
      "\u001b[1;31m---------------------------------------------------------------------------\u001b[0m",
      "\u001b[1;31mTypeError\u001b[0m                                 Traceback (most recent call last)",
      "Input \u001b[1;32mIn [60]\u001b[0m, in \u001b[0;36m<cell line: 1>\u001b[1;34m()\u001b[0m\n\u001b[1;32m----> 1\u001b[0m \u001b[43msensor_temperatures\u001b[49m\u001b[43m[\u001b[49m\u001b[38;5;241;43m0\u001b[39;49m\u001b[43m]\u001b[49m\n",
      "\u001b[1;31mTypeError\u001b[0m: 'set' object is not subscriptable"
     ]
    }
   ],
   "source": [
    "sensor_temperatures[0] #error"
   ]
  },
  {
   "cell_type": "markdown",
   "id": "65d960d6",
   "metadata": {},
   "source": [
    "## 3. Dictionary. \n",
    "\n",
    "Dictionary is an unordered collection of key-value pairs. Values are accessed using their keys"
   ]
  },
  {
   "cell_type": "code",
   "execution_count": 15,
   "id": "11a973d4",
   "metadata": {},
   "outputs": [
    {
     "data": {
      "text/plain": [
       "dict"
      ]
     },
     "execution_count": 15,
     "metadata": {},
     "output_type": "execute_result"
    }
   ],
   "source": [
    "user_profile = {\n",
    "    'name': 'Mark',\n",
    "    'age': 50,\n",
    "    'county': 'Nairobi',\n",
    "    'retired': False\n",
    "}\n",
    "type(user_profile)"
   ]
  },
  {
   "cell_type": "code",
   "execution_count": 65,
   "id": "944985bc",
   "metadata": {},
   "outputs": [
    {
     "data": {
      "text/plain": [
       "'Mark'"
      ]
     },
     "execution_count": 65,
     "metadata": {},
     "output_type": "execute_result"
    }
   ],
   "source": [
    "#Accessing an item\n",
    "user_profile['name']"
   ]
  },
  {
   "cell_type": "code",
   "execution_count": 16,
   "id": "6e9fa2f3",
   "metadata": {},
   "outputs": [
    {
     "name": "stdout",
     "output_type": "stream",
     "text": [
      "{'name': 'Mark', 'age': 50, 'county': 'Kajiado', 'retired': False}\n"
     ]
    }
   ],
   "source": [
    "#We can also reassign a value\n",
    "user_profile['county'] = 'Kajiado'\n",
    "print(user_profile)"
   ]
  },
  {
   "cell_type": "code",
   "execution_count": 67,
   "id": "0a10a9a5",
   "metadata": {},
   "outputs": [
    {
     "name": "stdout",
     "output_type": "stream",
     "text": [
      "{'name': 'Mark', 'age': 50, 'county': 'Kajiado', 'retired': False, 'next_kin': ['Mary', 'Sam']}\n"
     ]
    }
   ],
   "source": [
    "#We can create new keys\n",
    "user_profile['next_kin'] = ['Mary', 'Sam']\n",
    "print(user_profile)"
   ]
  },
  {
   "cell_type": "markdown",
   "id": "d6c8033e",
   "metadata": {},
   "source": [
    "# Conversion between data types\n",
    "\n",
    "We can convert between different data types by using different type conversion functions like `int()`, `float()`, `str()`"
   ]
  },
  {
   "cell_type": "code",
   "execution_count": 17,
   "id": "a91bd68b",
   "metadata": {},
   "outputs": [
    {
     "data": {
      "text/plain": [
       "37"
      ]
     },
     "execution_count": 17,
     "metadata": {},
     "output_type": "execute_result"
    }
   ],
   "source": [
    "#Converting from float to int\n",
    "temp = 37.3\n",
    "temp = int(temp)\n",
    "temp"
   ]
  },
  {
   "cell_type": "code",
   "execution_count": 74,
   "id": "d7295ad2",
   "metadata": {
    "scrolled": true
   },
   "outputs": [
    {
     "name": "stdout",
     "output_type": "stream",
     "text": [
      "19.0\n"
     ]
    }
   ],
   "source": [
    "#Converting from int to float\n",
    "age = 19\n",
    "age = float(19)\n",
    "print(age)"
   ]
  },
  {
   "cell_type": "code",
   "execution_count": 77,
   "id": "13460fca",
   "metadata": {},
   "outputs": [
    {
     "name": "stdout",
     "output_type": "stream",
     "text": [
      "<class 'str'>\n"
     ]
    }
   ],
   "source": [
    "#Converting from int to str\n",
    "age = str(age)\n",
    "print(type(age))"
   ]
  },
  {
   "cell_type": "code",
   "execution_count": 18,
   "id": "c816c7f8",
   "metadata": {},
   "outputs": [
    {
     "data": {
      "text/plain": [
       "(1, 2, 3)"
      ]
     },
     "execution_count": 18,
     "metadata": {},
     "output_type": "execute_result"
    }
   ],
   "source": [
    "numbers = [1, 2, 3] \n",
    "tuple(numbers)"
   ]
  },
  {
   "cell_type": "code",
   "execution_count": 19,
   "id": "959b4781",
   "metadata": {},
   "outputs": [
    {
     "data": {
      "text/plain": [
       "{1, 2, 3}"
      ]
     },
     "execution_count": 19,
     "metadata": {},
     "output_type": "execute_result"
    }
   ],
   "source": [
    "#Convert from list to set\n",
    "set(numbers)"
   ]
  },
  {
   "cell_type": "code",
   "execution_count": 20,
   "id": "b6acacd5",
   "metadata": {},
   "outputs": [
    {
     "data": {
      "text/plain": [
       "{'name': 'Sam', 'age': '20'}"
      ]
     },
     "execution_count": 20,
     "metadata": {},
     "output_type": "execute_result"
    }
   ],
   "source": [
    "#From a list to a dictionary\n",
    "dict([['name', 'Sam'], ['age', '20']])"
   ]
  },
  {
   "cell_type": "code",
   "execution_count": 21,
   "id": "ddc7d738",
   "metadata": {},
   "outputs": [
    {
     "data": {
      "text/plain": [
       "False"
      ]
     },
     "execution_count": 21,
     "metadata": {},
     "output_type": "execute_result"
    }
   ],
   "source": [
    "bool([]) #Any empty collection is evaluated to be false"
   ]
  },
  {
   "cell_type": "code",
   "execution_count": 22,
   "id": "862f72f1",
   "metadata": {},
   "outputs": [
    {
     "data": {
      "text/plain": [
       "False"
      ]
     },
     "execution_count": 22,
     "metadata": {},
     "output_type": "execute_result"
    }
   ],
   "source": [
    "bool({})"
   ]
  },
  {
   "cell_type": "code",
   "execution_count": 23,
   "id": "5de7ff4b",
   "metadata": {
    "scrolled": true
   },
   "outputs": [
    {
     "data": {
      "text/plain": [
       "True"
      ]
     },
     "execution_count": 23,
     "metadata": {},
     "output_type": "execute_result"
    }
   ],
   "source": [
    "bool(1)"
   ]
  },
  {
   "cell_type": "code",
   "execution_count": 24,
   "id": "c5894040",
   "metadata": {},
   "outputs": [
    {
     "data": {
      "text/plain": [
       "False"
      ]
     },
     "execution_count": 24,
     "metadata": {},
     "output_type": "execute_result"
    }
   ],
   "source": [
    "bool(0)"
   ]
  },
  {
   "cell_type": "markdown",
   "id": "b672d0cf",
   "metadata": {},
   "source": [
    "> Python also has truthy and falsy values\n",
    "> In Python, None and 0 are also interpreted as False."
   ]
  },
  {
   "cell_type": "markdown",
   "id": "be516bd5",
   "metadata": {},
   "source": [
    "# Rules for variable naming\n",
    "\n",
    "- Identifiers can be a combination of letters in lowercase (a to z) or uppercase (A to Z) or digits (0 to 9) or an underscore _. Names like myClass, var_1 and print_this_to_screen, all are valid example.\n",
    "- An identifier cannot start with a digit. `1num` is invalid, but `num1` is a valid name.\n",
    "- Keywords cannot be used as identifiers.\n",
    "Keywords are reserved words in Python, already given a special meaning by the Python interprater(the program that runs Python code)\n",
    "if = 1\n",
    "- We cannot use special symbols like !, @, #, $, % etc. in our identifier\n",
    "```$name = 'Frank' #Invalid syntax```\n",
    "\n",
    "- An identifier can be of any length it can have any number of characters, but it's a good programming practice to keep variable names concise but clear"
   ]
  },
  {
   "cell_type": "markdown",
   "id": "50a33043",
   "metadata": {},
   "source": [
    "## Note\n",
    "1. Python is a case-sensitive language. for example username and Username are two different variables. \n",
    "2. variable names(identifiers) should have clear names that indicate what the variable is likely to represent\n",
    "for example `user_name` is better than un. Don't use arbritrary names, the varaible name should be communicative.\n",
    "3. If you want to create a variable name having two words, use underscore _ to separate them. This is just a convention(standard practice) among many Python programmers\n",
    "4. You can also create constants. These are variables that should not be reassigned. \n",
    "PI=3.142"
   ]
  },
  {
   "cell_type": "code",
   "execution_count": null,
   "id": "7bb33194",
   "metadata": {},
   "outputs": [],
   "source": []
  }
 ],
 "metadata": {
  "kernelspec": {
   "display_name": "Python 3 (ipykernel)",
   "language": "python",
   "name": "python3"
  },
  "language_info": {
   "codemirror_mode": {
    "name": "ipython",
    "version": 3
   },
   "file_extension": ".py",
   "mimetype": "text/x-python",
   "name": "python",
   "nbconvert_exporter": "python",
   "pygments_lexer": "ipython3",
   "version": "3.9.7"
  }
 },
 "nbformat": 4,
 "nbformat_minor": 5
}
